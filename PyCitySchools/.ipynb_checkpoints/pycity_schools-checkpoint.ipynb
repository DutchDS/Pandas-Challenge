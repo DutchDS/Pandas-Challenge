{
 "cells": [
  {
   "cell_type": "markdown",
   "metadata": {},
   "source": [
    "# PyCity School District Analysis"
   ]
  },
  {
   "cell_type": "code",
   "execution_count": null,
   "metadata": {},
   "outputs": [],
   "source": [
    "# Dependencies and Setup\n",
    "import pandas as pd\n",
    "\n",
    "# File to Load\n",
    "school_data_to_load = \"Resources/schools_data_res.csv\"\n",
    "student_data_to_load = \"Resources/students_data_res.csv\"\n",
    "\n",
    "# Read School and Student Data File and store into Pandas Data Frames\n",
    "school_data = pd.read_csv(school_data_to_load)\n",
    "student_data = pd.read_csv(student_data_to_load)"
   ]
  },
  {
   "cell_type": "markdown",
   "metadata": {},
   "source": [
    "# District Summary"
   ]
  },
  {
   "cell_type": "code",
   "execution_count": null,
   "metadata": {
    "scrolled": true
   },
   "outputs": [],
   "source": [
    "# Read School and Student Data File and store into Pandas Data Frames\n",
    "school_data = pd.read_csv(school_data_to_load)\n",
    "student_data = pd.read_csv(student_data_to_load)"
   ]
  },
  {
   "cell_type": "code",
   "execution_count": null,
   "metadata": {},
   "outputs": [],
   "source": [
    "# Calculate the number of Schools and the number of Students\n",
    "total_schools = len(school_data)\n",
    "total_students = len(student_data)"
   ]
  },
  {
   "cell_type": "code",
   "execution_count": null,
   "metadata": {},
   "outputs": [],
   "source": [
    "# Calculate the Total Budget\n",
    "total_budget = '${:,.2f}'.format(sum(school_data[\"budget\"]))"
   ]
  },
  {
   "cell_type": "code",
   "execution_count": null,
   "metadata": {},
   "outputs": [],
   "source": [
    "# Calculate the Average Math, Average Reading Score and the Overall Passing grade\n",
    "avg_math_score = student_data[\"math_score\"].mean()\n",
    "avg_reading_score = student_data[\"reading_score\"].mean()\n",
    "avg_overall_score = (avg_math_score+avg_reading_score)/2\n",
    "\n",
    "#Round to nearest integer for readabiliby\n",
    "avg_math_score = round(avg_math_score)\n",
    "avg_reading_score = round(avg_reading_score)\n",
    "avg_overall_score = round(avg_overall_score)"
   ]
  },
  {
   "cell_type": "code",
   "execution_count": null,
   "metadata": {},
   "outputs": [],
   "source": [
    "# Calculate the percentage of students with a passing math score and a passing reading score (70 or greater)\n",
    "students_math_pass = student_data.loc[student_data[\"math_score\"] >= 70 ].count()\n",
    "students_read_pass = student_data.loc[student_data[\"reading_score\"] >= 70 ].count()\n",
    "\n",
    "pct_math_pass = students_math_pass[0]/total_students*100\n",
    "pct_read_pass = students_read_pass[0]/total_students*100\n",
    "pct_overall_pass = (pct_math_pass+pct_read_pass)/2\n",
    "\n",
    "#Round to 1 digit for readability\n",
    "pct_math_pass = round(pct_math_pass,1)\n",
    "pct_read_pass = round(pct_read_pass,1)\n",
    "pct_overall_pass = round(pct_overall_pass,1)"
   ]
  },
  {
   "cell_type": "code",
   "execution_count": null,
   "metadata": {},
   "outputs": [],
   "source": [
    "#Print results to screen\n",
    "district_results = pd.DataFrame({\"Total Schools\": [total_schools],\n",
    "                                   \"Total Students\": [total_students],\n",
    "                                   \"Total Budget\": [total_budget],\n",
    "                                   \"Average Math Score\": [avg_math_score],\n",
    "                                   \"Average Reading Score\": [avg_reading_score],\n",
    "                                   \"% Passing Math\": [pct_math_pass],\n",
    "                                   \"% Passing Reading\": [pct_read_pass],\n",
    "                                   \"% Passing Overall\": [pct_overall_pass]\n",
    "                                   })\n",
    "\n",
    "district_results"
   ]
  },
  {
   "cell_type": "markdown",
   "metadata": {},
   "source": [
    "#  School Summary"
   ]
  },
  {
   "cell_type": "code",
   "execution_count": null,
   "metadata": {},
   "outputs": [],
   "source": [
    "#School Summary\n",
    "grouped_by_school_df = student_data.groupby(['school_name'])"
   ]
  },
  {
   "cell_type": "code",
   "execution_count": null,
   "metadata": {},
   "outputs": [],
   "source": [
    "#Create a dataframe with 'school' being a summary level\n",
    "school_summary = pd.DataFrame(student_data[\"school_name\"].value_counts())\n",
    "\n",
    "school_summary.reset_index(inplace=True)\n",
    "school_summary.columns = [\"School Name\", \"Total Students\"]\n",
    "school_summary = school_summary.set_index(\"School Name\")\n",
    "#school_summary"
   ]
  },
  {
   "cell_type": "code",
   "execution_count": null,
   "metadata": {},
   "outputs": [],
   "source": [
    "#Calculate number of students, their average reading & math score by group (=school)\n",
    "#Then append to School Summary table\n",
    "total_students = grouped_by_school_df[\"Student ID\"].count()\n",
    "school_summary[\"Students Total for math\"] = total_students \n",
    "\n",
    "avg_reading_score = grouped_by_school_df[\"reading_score\"].mean()\n",
    "school_summary[\"Average Reading Score\"] = avg_reading_score \n",
    "\n",
    "avg_math_score = grouped_by_school_df[\"math_score\"].mean()\n",
    "school_summary[\"Average Math Score\"] = avg_math_score "
   ]
  },
  {
   "cell_type": "code",
   "execution_count": null,
   "metadata": {},
   "outputs": [],
   "source": [
    "#Create a new dataframe for those student with Math scores => 70\n",
    "#Then group by school\n",
    "#Then find the percentage compared to the overall student count per school\n",
    "total_students_math_over_70 = student_data.loc[student_data[\"math_score\"] >= 70]\n",
    "grouped_by_school_for_math = total_students_math_over_70.groupby(['school_name'])\n",
    "number_of_math_students_70 = grouped_by_school_for_math[\"Student ID\"].count()\n",
    "school_summary[\"Students that pass math\"] = number_of_math_students_70\n",
    "\n",
    "pct_passing_math_70 = number_of_math_students_70/total_students\n",
    "school_summary[\"% Math Passed\"] = round(pct_passing_math_70*100,2)\n",
    "#school_summary"
   ]
  },
  {
   "cell_type": "code",
   "execution_count": null,
   "metadata": {},
   "outputs": [],
   "source": [
    "#Create a new dataframe for those student with Reading scores => 70\n",
    "#Then group by school\n",
    "#Then find the percentage compared to the overall student count per school\n",
    "total_students_read_over_70 = student_data.loc[student_data[\"reading_score\"] >= 70]\n",
    "grouped_by_school_for_reading = total_students_read_over_70.groupby([\"school_name\"])\n",
    "number_of_reading_students_70 = grouped_by_school_for_reading[\"Student ID\"].count()\n",
    "school_summary[\"Students that pass reading\"] = number_of_reading_students_70\n",
    "\n",
    "pct_passing_reading_70 = number_of_reading_students_70/total_students\n",
    "school_summary[\"% Reading Passed\"] = round(pct_passing_reading_70*100,2)\n",
    "#school_summary"
   ]
  },
  {
   "cell_type": "code",
   "execution_count": null,
   "metadata": {},
   "outputs": [],
   "source": [
    "about_the_school = pd.DataFrame(school_data[[\"school_name\",\"type\",\"budget\"]])\n",
    "about_the_school.columns = [\"School Name\", \"Type\",\"Budget\"]\n",
    "about_the_school = about_the_school.set_index(\"School Name\")\n",
    "#about_the_school.sort_values(by=['School Name'])"
   ]
  },
  {
   "cell_type": "code",
   "execution_count": null,
   "metadata": {},
   "outputs": [],
   "source": [
    "school_summary[\"Budget\"] = about_the_school[\"Budget\"].map('${:,.2f}'.format)\n",
    "school_summary[\"Type\"] = about_the_school[\"Type\"]\n",
    "school_summary[\"Budget/Student\"] = (about_the_school[\"Budget\"]/school_summary[\"Total Students\"]).map('${:,.2f}'.format)"
   ]
  },
  {
   "cell_type": "code",
   "execution_count": null,
   "metadata": {},
   "outputs": [],
   "source": [
    "pct_passing_overall = round((pct_passing_reading_70 + pct_passing_math_70)/2*100,2)\n",
    "school_summary[\"% Pass Overall\"] = pct_passing_overall"
   ]
  },
  {
   "cell_type": "code",
   "execution_count": null,
   "metadata": {},
   "outputs": [],
   "source": [
    "#school_summary.reset_index(inplace=True)\n",
    "#school_summary[\"Budget\"] = school_summary[\"Budget\"]\n",
    "#school_summary[['School Name','Type','Total Students', 'Budget',\"Budget/Student\",'Average Reading Score', 'Average Math Score',\n",
    "#         '% Math Passed', '% Reading Passed', '% Pass Overall']].sort_values(by=\"School Name\")"
   ]
  },
  {
   "cell_type": "code",
   "execution_count": null,
   "metadata": {},
   "outputs": [],
   "source": [
    "school_summary.reset_index(inplace=False)\n",
    "# school_summary = school_summary.set_index(\"School Name\")\n",
    "school_final_summary = school_summary[['Type','Total Students', 'Budget',\"Budget/Student\",'Average Reading Score', 'Average Math Score',\n",
    "         '% Math Passed', '% Reading Passed', '% Pass Overall']].sort_values(by=\"School Name\")\n",
    "school_final_summary"
   ]
  },
  {
   "cell_type": "markdown",
   "metadata": {},
   "source": [
    "# Top Performing School (by passing rate)"
   ]
  },
  {
   "cell_type": "code",
   "execution_count": null,
   "metadata": {
    "scrolled": true
   },
   "outputs": [],
   "source": [
    "#school_summary.reset_index(inplace=True)\n",
    "#school_summary[['School Name','Type','Total Students', 'Budget',\"Budget/Student\",'Average Reading Score', 'Average Math Score',\n",
    "#         '% Math Passed', '% Reading Passed', '% Pass Overall']].sort_values(by=\"% Pass Overall\",ascending=False).head(5)\n",
    "#school_summary.sort_values(by=\"% Pass Overall\",ascending=False).head(5) \n",
    "school_final_summary.sort_values(by=\"% Pass Overall\",ascending=False).head(5) "
   ]
  },
  {
   "cell_type": "markdown",
   "metadata": {},
   "source": [
    "# Bottom Performing Schools (by passing rate)"
   ]
  },
  {
   "cell_type": "code",
   "execution_count": null,
   "metadata": {},
   "outputs": [],
   "source": [
    "school_final_summary.sort_values(by=\"% Pass Overall\",ascending=True).head(5)"
   ]
  },
  {
   "cell_type": "code",
   "execution_count": null,
   "metadata": {},
   "outputs": [],
   "source": []
  }
 ],
 "metadata": {
  "kernelspec": {
   "display_name": "Python [conda env:PythonData]",
   "language": "python",
   "name": "conda-env-PythonData-py"
  },
  "language_info": {
   "codemirror_mode": {
    "name": "ipython",
    "version": 3
   },
   "file_extension": ".py",
   "mimetype": "text/x-python",
   "name": "python",
   "nbconvert_exporter": "python",
   "pygments_lexer": "ipython3",
   "version": "3.6.9"
  }
 },
 "nbformat": 4,
 "nbformat_minor": 2
}
