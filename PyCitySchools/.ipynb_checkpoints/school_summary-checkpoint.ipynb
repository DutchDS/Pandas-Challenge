{
 "cells": [
  {
   "cell_type": "code",
   "execution_count": 168,
   "metadata": {},
   "outputs": [],
   "source": [
    "# Dependencies and Setup\n",
    "import pandas as pd\n",
    "\n",
    "# File to Load\n",
    "school_data_to_load = \"Resources/schools_data_res.csv\"\n",
    "student_data_to_load = \"Resources/students_data_res.csv\"\n",
    "\n",
    "# Read School and Student Data File and store into Pandas Data Frames\n",
    "school_data = pd.read_csv(school_data_to_load)\n",
    "student_data = pd.read_csv(student_data_to_load)"
   ]
  },
  {
   "cell_type": "code",
   "execution_count": 169,
   "metadata": {},
   "outputs": [],
   "source": [
    "#School Summary\n",
    "grouped_by_school_df = student_data.groupby(['school_name'])"
   ]
  },
  {
   "cell_type": "code",
   "execution_count": 170,
   "metadata": {},
   "outputs": [],
   "source": [
    "school_summary = pd.DataFrame(student_data[\"school_name\"].value_counts())\n",
    "\n",
    "school_summary.reset_index(inplace=True)\n",
    "school_summary.columns = [\"School Name\", \"Total Students\"]\n",
    "school_summary = school_summary.set_index(\"School Name\")\n",
    "#school_summary.head()"
   ]
  },
  {
   "cell_type": "code",
   "execution_count": 171,
   "metadata": {},
   "outputs": [],
   "source": [
    "avg_reading_score = grouped_by_school_df[\"reading_score\"].mean()\n",
    "school_summary[\"Average Reading Score\"] = avg_reading_score \n",
    "#school_summary.head()\n",
    "\n",
    "avg_math_score = grouped_by_school_df[\"math_score\"].mean()\n",
    "#avg_math_score.head()\n",
    "school_summary[\"Average Math Score\"] = avg_math_score \n",
    "school_summary.head()"
   ]
  }
 ],
 "metadata": {
  "kernelspec": {
   "display_name": "Python [conda env:PythonData] *",
   "language": "python",
   "name": "conda-env-PythonData-py"
  },
  "language_info": {
   "codemirror_mode": {
    "name": "ipython",
    "version": 3
   },
   "file_extension": ".py",
   "mimetype": "text/x-python",
   "name": "python",
   "nbconvert_exporter": "python",
   "pygments_lexer": "ipython3",
   "version": "3.6.9"
  }
 },
 "nbformat": 4,
 "nbformat_minor": 2
}
