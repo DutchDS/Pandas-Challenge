{
 "cells": [
  {
   "cell_type": "code",
   "execution_count": null,
   "metadata": {},
   "outputs": [],
   "source": [
    "#School Summary\n",
    "bootcamp_name = pd.DataFrame(reduced_coders_pd[\"BootcampName\"].value_counts())\n",
    "\n",
    "bootcamp_name.reset_index(inplace=True)\n",
    "bootcamp_name.columns = [\"BootcampName\", \"Count\"]\n",
    "msg = 'Free Code Camp is not a bootcamp - please scroll up and change answer to \"no\"'"
   ]
  }
 ],
 "metadata": {
  "kernelspec": {
   "display_name": "Python [conda env:PythonData] *",
   "language": "python",
   "name": "conda-env-PythonData-py"
  },
  "language_info": {
   "codemirror_mode": {
    "name": "ipython",
    "version": 3
   },
   "file_extension": ".py",
   "mimetype": "text/x-python",
   "name": "python",
   "nbconvert_exporter": "python",
   "pygments_lexer": "ipython3",
   "version": "3.6.9"
  }
 },
 "nbformat": 4,
 "nbformat_minor": 2
}
